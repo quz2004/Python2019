{
 "cells": [
  {
   "cell_type": "markdown",
   "metadata": {},
   "source": [
    "<div style=\"text-align: center\"><img src=\"https://www.python.org/static/img/python-logo.png\"></div>"
   ]
  },
  {
   "cell_type": "markdown",
   "metadata": {},
   "source": [
    "# Python-Overview"
   ]
  },
  {
   "cell_type": "markdown",
   "metadata": {},
   "source": [
    "## Course Overview\n",
    "\n",
    "- Basics Syntax\n",
    "- Variables & Operators\n",
    "- Data Types and Built-in Data Strucures\n",
    "- Control Flow Statements\n",
    "- Write Your Own Functions\n",
    "- Funtions and More Cool Stuff\n",
    "\n",
    "Course repository: https://github.com/quz2004/Python2019\n",
    "    \n",
    "\n",
    "## Introduction\n",
    "\n",
    "Python is a modern, robust, high level programming language. It is very easy to pick up even if you are completely new to programming. \n",
    "\n",
    "Python, similar to other languages like matlab or R, is interpreted hence runs relatively slower compared to C++, Fortran or Java. However writing programs in Python is very quick, and most of its numerical libraries (for number crunching jobs) are written in C or Fortran. Python has a very large collection of libraries for everything from scientific computing to web services. It caters for object oriented and functional programming with module system that allows large and complex applications to be developed in Python. \n",
    "\n",
    "<div style=\"text-align: center\"><img src=\"https://miro.medium.com/max/700/1*jnZT4gFAzScOJ_VnYsni0g.png\">\n",
    "\n",
    "\n",
    "**Python Is for Everyone—as Long as You Speak English**\n",
    "\n",
    "Just for fun, try reading over the code below and predicting what it's going to do when run:"
   ]
  },
  {
   "cell_type": "code",
   "execution_count": null,
   "metadata": {
    "ExecuteTime": {
     "end_time": "2019-07-07T18:46:32.541594Z",
     "start_time": "2019-07-07T18:46:32.528743Z"
    }
   },
   "outputs": [],
   "source": [
    "open(\"SecretPasswordFile.txt\",\"w\").write('12345')"
   ]
  },
  {
   "cell_type": "code",
   "execution_count": null,
   "metadata": {
    "ExecuteTime": {
     "end_time": "2019-07-07T18:46:39.764580Z",
     "start_time": "2019-07-07T18:46:35.207317Z"
    }
   },
   "outputs": [],
   "source": [
    "passwordFile_toRead = open('SecretPasswordFile.txt')\n",
    "secretPassword = passwordFile_toRead.read()\n",
    "print('Enter your password.')\n",
    "typedPassword = input() # Wait for user to type password\n",
    "if typedPassword == secretPassword:\n",
    "    print('Access granted')\n",
    "    if typedPassword == '12345':\n",
    "       print(\"***That's absurdly simple 'pwassword'! \")\n",
    "       print(\"   Do you call that a password?!\" )\n",
    "else:\n",
    "    print('Access denied')"
   ]
  },
  {
   "cell_type": "markdown",
   "metadata": {},
   "source": [
    "## Python Jupyter Installation##\n",
    " \n",
    "\n",
    "\n",
    "- Download and install anaconda from \n",
    "  https://www.anaconda.com/download\n",
    "\n",
    "  \n",
    "  Run Jupyter notebook:\n",
    "  open a terminal (mac)/ in Windows open \"anaconda prompt\"), type commands after \"$\":\n",
    "  $ jupyter notebook\n",
    "  \n",
    "- For windows please follow instruction here for installation: \n",
    "https://medium.com/@GalarnykMichael/install-python-on-windows-anaconda-c63c7c3d1444\n",
    "\n",
    "  ### Install Jupyter extensions: ###\n",
    "  Reference: https://jupyter-contrib-nbextensions.readthedocs.io/en/latest/install.html\n",
    "  \n",
    "  Open a terminal (mac)/in Windows open \"anaconda prompt\"), and type commands after \"$\":\n",
    "  $ conda install -c conda-forge jupyter_contrib_nbextensions\n",
    "  \n",
    "  $ conda install -c conda-forge ipywidgets\n",
    "  \n",
    "  $ conda install  -c conda-forge widgetsnbextension\n"
   ]
  },
  {
   "cell_type": "markdown",
   "metadata": {},
   "source": [
    "## Run Python without installation\n",
    "\n",
    "- [Binder](https://mybinder.org/)\n",
    "- [Kaggle Kernels](https://www.kaggle.com/)\n",
    "- [Google Colaboratory (Colab)](https://colab.research.google.com/)\n",
    "- [Microsoft Azure Notebooks](https://notebooks.azure.com/)\n",
    "- [CoCalc](https://cocalc.com/)\n",
    "\n"
   ]
  },
  {
   "cell_type": "markdown",
   "metadata": {},
   "source": [
    "## \"Hellow World\" - Test run after installation\n",
    "\n",
    "Try these code cells and see what happens\n"
   ]
  },
  {
   "cell_type": "code",
   "execution_count": null,
   "metadata": {
    "ExecuteTime": {
     "end_time": "2019-07-07T20:06:04.585505Z",
     "start_time": "2019-07-07T20:06:04.580040Z"
    }
   },
   "outputs": [],
   "source": [
    "print(\"Hello World!\")"
   ]
  },
  {
   "cell_type": "code",
   "execution_count": null,
   "metadata": {
    "ExecuteTime": {
     "end_time": "2019-07-07T20:06:28.677471Z",
     "start_time": "2019-07-07T20:06:28.672355Z"
    }
   },
   "outputs": [],
   "source": [
    "print(10)"
   ]
  },
  {
   "cell_type": "code",
   "execution_count": null,
   "metadata": {},
   "outputs": [],
   "source": [
    "print(10*3)"
   ]
  },
  {
   "cell_type": "code",
   "execution_count": null,
   "metadata": {},
   "outputs": [],
   "source": []
  },
  {
   "cell_type": "code",
   "execution_count": 4,
   "metadata": {
    "ExecuteTime": {
     "end_time": "2019-07-08T13:55:13.924448Z",
     "start_time": "2019-07-08T13:55:13.766707Z"
    }
   },
   "outputs": [
    {
     "data": {
      "text/plain": [
       "[<matplotlib.lines.Line2D at 0x11b511128>]"
      ]
     },
     "execution_count": 4,
     "metadata": {},
     "output_type": "execute_result"
    },
    {
     "data": {
      "image/png": "[encoded data removed]",
      "text/plain": [
       "<Figure size 432x288 with 1 Axes>"
      ]
     },
     "metadata": {
      "needs_background": "light"
     },
     "output_type": "display_data"
    }
   ],
   "source": [
    "%matplotlib inline\n",
    "import numpy as np\n",
    "from matplotlib import pyplot; \n",
    "\n",
    "x = np.linspace(0.,np.pi*2, 50)\n",
    "y1 = np.cos(x)\n",
    "y2 = np.sin(x)\n",
    "pyplot.plot(x, y1)\n",
    "pyplot.plot(x, y2 + 0.5)"
   ]
  },
  {
   "cell_type": "code",
   "execution_count": null,
   "metadata": {
    "ExecuteTime": {
     "end_time": "2019-07-07T19:48:50.006342Z",
     "start_time": "2019-07-07T19:48:49.981563Z"
    }
   },
   "outputs": [],
   "source": [
    "x"
   ]
  },
  {
   "cell_type": "code",
   "execution_count": null,
   "metadata": {
    "ExecuteTime": {
     "end_time": "2019-07-07T19:49:22.136780Z",
     "start_time": "2019-07-07T19:49:22.128974Z"
    }
   },
   "outputs": [],
   "source": [
    "y1"
   ]
  },
  {
   "cell_type": "markdown",
   "metadata": {},
   "source": [
    "## Python as a calculator"
   ]
  },
  {
   "cell_type": "markdown",
   "metadata": {},
   "source": [
    "A natural thing to want to do with numbers is perform arithmetic. We've seen the `+` operator for addition, and the `*` operator for multiplication (of a sort). Python also has us covered for the rest of the basic buttons on your calculator:\n",
    "\n",
    "| Operator     | Name           | Description                                            |\n",
    "|--------------|----------------|--------------------------------------------------------|\n",
    "| ``a + b``    | Addition       | Sum of ``a`` and ``b``                                 |\n",
    "| ``a - b``    | Subtraction    | Difference of ``a`` and ``b``                          |\n",
    "| ``a * b``    | Multiplication | Product of ``a`` and ``b``                             |\n",
    "| ``a / b``    | True division  | Quotient of ``a`` and ``b``                            |\n",
    "| ``a // b``   | Floor division | Quotient of ``a`` and ``b``, removing fractional parts |\n",
    "| ``a % b``    | Modulus        | Integer remainder after division of ``a`` by ``b``     |\n",
    "| ``a ** b``   | Exponentiation | ``a`` raised to the power of ``b``                     |\n",
    "| ``-a``       | Negation       | The negative of ``a``                                  |\n"
   ]
  },
  {
   "cell_type": "code",
   "execution_count": null,
   "metadata": {
    "ExecuteTime": {
     "end_time": "2019-07-07T21:35:52.246296Z",
     "start_time": "2019-07-07T21:35:52.240458Z"
    }
   },
   "outputs": [],
   "source": [
    "print(3 * 22) # multiplication\n",
    "print(1001-202) # subtraction"
   ]
  },
  {
   "cell_type": "code",
   "execution_count": null,
   "metadata": {},
   "outputs": [],
   "source": []
  },
  {
   "cell_type": "markdown",
   "metadata": {},
   "source": [
    "### \"True division\" vs \"floor division\""
   ]
  },
  {
   "cell_type": "code",
   "execution_count": null,
   "metadata": {
    "ExecuteTime": {
     "end_time": "2019-07-07T21:25:58.032130Z",
     "start_time": "2019-07-07T21:25:58.025577Z"
    }
   },
   "outputs": [],
   "source": [
    "3/2 # division"
   ]
  },
  {
   "cell_type": "code",
   "execution_count": null,
   "metadata": {
    "ExecuteTime": {
     "end_time": "2019-07-07T21:26:12.910717Z",
     "start_time": "2019-07-07T21:26:12.904361Z"
    }
   },
   "outputs": [],
   "source": [
    "3//2 # floor division"
   ]
  },
  {
   "cell_type": "code",
   "execution_count": null,
   "metadata": {
    "ExecuteTime": {
     "end_time": "2019-07-07T21:45:18.709203Z",
     "start_time": "2019-07-07T21:45:18.702868Z"
    }
   },
   "outputs": [],
   "source": [
    "print(5 / 2)\n",
    "print(6 / 2)\n",
    "print (2/3)\n",
    "print (2//5)\n",
    "if (6 % 2): \n",
    "    print ('odd number')\n",
    "else:\n",
    "    print ('even nuber')"
   ]
  },
  {
   "cell_type": "code",
   "execution_count": null,
   "metadata": {
    "ExecuteTime": {
     "end_time": "2019-07-07T21:25:11.832590Z",
     "start_time": "2019-07-07T21:25:11.825273Z"
    },
    "scrolled": true
   },
   "outputs": [],
   "source": [
    "3**2  # exponentiation"
   ]
  },
  {
   "cell_type": "code",
   "execution_count": null,
   "metadata": {},
   "outputs": [],
   "source": []
  },
  {
   "cell_type": "code",
   "execution_count": null,
   "metadata": {
    "ExecuteTime": {
     "end_time": "2019-07-07T21:25:32.267198Z",
     "start_time": "2019-07-07T21:25:32.260336Z"
    }
   },
   "outputs": [],
   "source": [
    "81**0.5"
   ]
  },
  {
   "cell_type": "code",
   "execution_count": 5,
   "metadata": {
    "ExecuteTime": {
     "end_time": "2019-07-08T13:56:23.183691Z",
     "start_time": "2019-07-08T13:56:23.174527Z"
    }
   },
   "outputs": [
    {
     "data": {
      "text/plain": [
       "9.0"
      ]
     },
     "execution_count": 5,
     "metadata": {},
     "output_type": "execute_result"
    }
   ],
   "source": [
    "import math\n",
    "math.sqrt(81)"
   ]
  },
  {
   "cell_type": "markdown",
   "metadata": {
    "ExecuteTime": {
     "end_time": "2019-07-07T21:44:34.696667Z",
     "start_time": "2019-07-07T21:44:34.687356Z"
    }
   },
   "source": [
    "### Order of arithmatic operations\n",
    "\n",
    "The arithmetic we learned in primary school has conventions about the order in which operations are evaluated. Some remember these by a mnemonic such as **PEMDAS** - <B>P</B>arentheses, <B>E</B>xponents, <B>M</B>ultiplication/<B>D</B>ivision, <B>A</B>ddition<B>S</B>ubtraction.\n",
    "\n",
    "A side note is that positive or negative (+ or - preceding a number) is after exponents, but before addition/subtraction.\n",
    "\n",
    "Python follows similar rules about which calculations to perform first. They're mostly pretty intuitive.\n",
    "\n",
    "See a complete list of preced"
   ]
  },
  {
   "cell_type": "code",
   "execution_count": null,
   "metadata": {
    "ExecuteTime": {
     "end_time": "2019-07-07T21:44:12.276331Z",
     "start_time": "2019-07-07T21:44:12.266002Z"
    }
   },
   "outputs": [],
   "source": [
    "(5.5-1.5)/2**2 "
   ]
  },
  {
   "cell_type": "markdown",
   "metadata": {},
   "source": [
    "# A Quick Tour of Python Language Syntax"
   ]
  },
  {
   "cell_type": "markdown",
   "metadata": {},
   "source": [
    "Python was originally developed as a teaching language, but its ease of use and clean syntax have led it to be embraced by beginners and experts alike.\n",
    "The cleanliness of Python's syntax has led some to call it \"executable pseudocode\", and indeed my own experience has been that it is often much easier to read and understand a Python script than to read a similar script written in, say, C.\n",
    "Here we'll begin to discuss the main features of Python's syntax.\n",
    "\n",
    "**Syntax refers to the structure of the language** (i.e., what constitutes a correctly-formed program).\n",
    "For the time being, we'll not focus on the semantics – the meaning of the words and symbols within the syntax – but will return to this at a later point.\n",
    "\n",
    "Consider the following code example:"
   ]
  },
  {
   "cell_type": "code",
   "execution_count": null,
   "metadata": {
    "ExecuteTime": {
     "end_time": "2019-07-07T21:01:20.034347Z",
     "start_time": "2019-07-07T21:01:16.195266Z"
    }
   },
   "outputs": [],
   "source": [
    "# Authentication script, Repeat if failed.\n",
    "\n",
    "#set initial value for loop control\n",
    "repeat = True\n",
    "\n",
    "\n",
    "while repeat: # loop as long as `repeat` is True\n",
    "    # Open the file that stores my password\n",
    "    passwordFile_toRead = open('SecretPasswordFile.txt')\n",
    "    secretPassword = passwordFile_toRead.read()\n",
    "    typedPassword = input(\"Please enter your password:\") # Wait for user to type password\n",
    "\n",
    "    if typedPassword == secretPassword:\n",
    "        print('Access granted')\n",
    "        if typedPassword == '12345':\n",
    "           print(\"***But that's an absurdly simple 'pwassword'! \")\n",
    "           print(\"   Do you call that a password?!\" )\n",
    "        repeat = False\n",
    "    else:\n",
    "        print('Sorry! Access denied. Please try again.')\n",
    "print(\"---> Awsome! Let's continue ...\")"
   ]
  },
  {
   "cell_type": "markdown",
   "metadata": {},
   "source": [
    "This script is a bit silly, but it compactly illustrates several of the important aspects of Python syntax.\n",
    "Let's walk through it and discuss some of the syntactical features of Python"
   ]
  },
  {
   "cell_type": "markdown",
   "metadata": {},
   "source": [
    "## Comments Are Marked by ``#``\n",
    "The script starts with a comment:\n",
    "``` python\n",
    "# Authentication, Repeat if failed.\n",
    "\n",
    "```\n",
    "Comments in Python are indicated by a pound sign (``#``), and anything on the line following the pound sign is ignored by the interpreter.\n",
    "This means, for example, that you can have stand-alone comments like the one just shown, as well as inline comments that follow a statement. For example:\n",
    "``` python\n",
    "x = 2  # assign value 2 to x\n",
    "```\n",
    "Python does not have any syntax for multi-line comments, such as the ``/* ... */`` syntax used in C and C++, though multi-line strings are often used as a replacement for multi-line comments."
   ]
  },
  {
   "cell_type": "markdown",
   "metadata": {},
   "source": [
    "## End-of-Line Terminates a Statement\n",
    "The next line in the script is\n",
    "``` python\n",
    "repeat = True\n",
    "```\n",
    "This is an assignment operation, where we've created a variable named ``repeat`` and assigned it the value ``True``.\n",
    "Notice that the end of this statement is simply marked by the end of the line.\n",
    "This is in contrast to languages like C and C++, where every statement must end with a semicolon (``;``).\n",
    "\n",
    "In Python, if you'd like a statement to **continue to the next line**, it is possible to use the \"``\\``\" marker to indicate this:"
   ]
  },
  {
   "cell_type": "code",
   "execution_count": null,
   "metadata": {},
   "outputs": [],
   "source": [
    "x = 1 + 2 + 3 + 4 +\\\n",
    "    5 + 6 + 7 + 8"
   ]
  },
  {
   "cell_type": "markdown",
   "metadata": {},
   "source": [
    "It is also possible to continue expressions on the next line within parentheses, without using the \"``\\``\" marker:"
   ]
  },
  {
   "cell_type": "code",
   "execution_count": null,
   "metadata": {},
   "outputs": [],
   "source": [
    "x = (1 + 2 + 3 + 4 +\n",
    "     5 + 6 + 7 + 8)"
   ]
  },
  {
   "cell_type": "markdown",
   "metadata": {},
   "source": [
    "Most Python style guides recommend the second version of line continuation (within parentheses) to the first (use of the \"``\\``\" marker)."
   ]
  },
  {
   "cell_type": "markdown",
   "metadata": {},
   "source": [
    "## Semicolon Can Optionally Terminate a Statement\n",
    "Sometimes it can be useful to put multiple statements on a single line.\n",
    "The next portion of the script is\n",
    "``` python\n",
    "lower = 0; upper = 100\n",
    "```\n",
    "This shows the example of how the semicolon (``;``) familiar in C can be used optionally in Python to put two statements on a single line.\n",
    "Functionally, this is entirely equivalent to writing\n",
    "``` python\n",
    "lower = 0\n",
    "upper = 100\n",
    "```\n",
    "Using a semicolon to put multiple statements on a single line is generally discouraged by most Python style guides, though occasionally it proves convenient."
   ]
  },
  {
   "cell_type": "markdown",
   "metadata": {},
   "source": [
    "## Indentation: Whitespace Matters!\n",
    "Next, we get to the main block of code:\n",
    "``` Python\n",
    "while repeat:\n",
    "    passwordFile_toRead = open('SecretPasswordFile.txt')\n",
    "    secretPassword = passwordFile_toRead.read()\n",
    "    typedPassword = input(\"Please enter your password:\")\n",
    "    if typedPassword == secretPassword:\n",
    "        print('Access granted')\n",
    "        if typedPassword == '12345':\n",
    "           print(\"***But that's an absurdly simple 'pwassword'! \")\n",
    "           print(\"   Do you call that a password?!\" )\n",
    "        repeat = False\n",
    "    else:\n",
    "        print('Sorry! Access denied. Please try again.')\n",
    "```\n",
    "This is a compound control-flow statement including a loop and a conditional – we'll look at these types of statements in a moment.\n",
    "For now, consider that this demonstrates what is perhaps the most controversial feature of Python's syntax: whitespace is meaningful!\n",
    "\n",
    "In programming languages, a *block* of code is a set of statements that should be treated as a unit.\n",
    "In C, for example, code blocks are denoted by curly braces:\n",
    "``` C\n",
    "// C/Java code\n",
    "for(int i=0; i<100; i++)\n",
    "   {\n",
    "      // curly braces indicate code block\n",
    "      total += i;\n",
    "   }\n",
    "```\n",
    "In Python, code blocks are denoted by **indentation**:\n",
    "``` python\n",
    "for i in range(100):\n",
    "    # indentation indicates code block\n",
    "    total += i\n",
    "```\n",
    "In Python, **indented code blocks are always preceded by a colon (``:``) on the previous line.**"
   ]
  },
  {
   "cell_type": "markdown",
   "metadata": {},
   "source": [
    "The use of indentation helps to enforce the uniform, readable style that many find appealing in Python code.\n",
    "But it might be confusing to the uninitiated; for example, the following two snippets will produce different results:\n",
    "```python\n",
    "#snippet 1\n",
    "x = 10\n",
    "if x < 4:           \n",
    "   y = x - 2           \n",
    "   print('x is less than 4')\n",
    "    \n",
    "#snippet 2\n",
    "x = 10\n",
    "if x < 4:           \n",
    "   y = x - 2           \n",
    "print('x is less than 4?')\n",
    "```\n",
    "In the snippet 1, ``print`` is in the indented block, and will be executed only if ``x`` is less than ``4``.\n",
    "In the snippet 2 ``print`` is outside the block, and will be executed regardless of the value of ``x``!"
   ]
  },
  {
   "cell_type": "markdown",
   "metadata": {},
   "source": [
    "Python's use of meaningful whitespace often is surprising to programmers who are accustomed to other languages, but in practice it can lead to much more consistent and readable code than languages that do not enforce indentation of code blocks. If you find Python's use of whitespace disagreeable, I'd encourage you to give it a try: as I did, you may find that you come to appreciate it.\n",
    "\n",
    "Finally, you should be aware that the **amount of whitespace used for indenting code blocks** is up to the user, as long as it is consistent throughout the script.\n",
    "By convention, most style guides recommend to indent code blocks by four spaces, and that is the convention we will follow in this report.\n",
    "Note that many text editors like Emacs and Vim contain Python modes that do four-space indentation automatically."
   ]
  },
  {
   "cell_type": "markdown",
   "metadata": {},
   "source": [
    "## Whitespace *Within* Lines Does Not Matter\n",
    "While the mantra of *meaningful whitespace* holds true for whitespace *before* lines (which indicate a code block), white space *within* lines of Python code does not matter.\n",
    "For example, all three of these expressions are equivalent:"
   ]
  },
  {
   "cell_type": "code",
   "execution_count": null,
   "metadata": {},
   "outputs": [],
   "source": [
    "x=1+2\n",
    "x = 1 + 2\n",
    "x             =        1    +                2"
   ]
  },
  {
   "cell_type": "markdown",
   "metadata": {},
   "source": [
    "## Parentheses Are for Grouping or Calling\n",
    "\n",
    "In the previous code snippet, we see two uses of parentheses.\n",
    "First, they can be used in the typical way to group statements or mathematical operations:"
   ]
  },
  {
   "cell_type": "code",
   "execution_count": null,
   "metadata": {},
   "outputs": [],
   "source": [
    "2 * (3 + 4)"
   ]
  },
  {
   "cell_type": "markdown",
   "metadata": {},
   "source": [
    "They can also be used to indicate that a *function* is being called.\n",
    "In the next snippet, the ``print()`` function is used to display the contents of a variable (see the sidebar).\n",
    "The function call is indicated by a pair of opening and closing parentheses, with the *arguments* to the function contained within:"
   ]
  },
  {
   "cell_type": "code",
   "execution_count": null,
   "metadata": {},
   "outputs": [],
   "source": [
    "print('first value:', 1)"
   ]
  },
  {
   "cell_type": "code",
   "execution_count": null,
   "metadata": {},
   "outputs": [],
   "source": [
    "print('second value:', 2)"
   ]
  },
  {
   "cell_type": "markdown",
   "metadata": {},
   "source": [
    "Some functions can be called with no arguments at all, in which case the opening and closing parentheses still must be used to indicate a function evaluation.\n",
    "An example of this is the ``lower`` method of string:"
   ]
  },
  {
   "cell_type": "code",
   "execution_count": 31,
   "metadata": {
    "ExecuteTime": {
     "end_time": "2019-07-07T22:27:56.369787Z",
     "start_time": "2019-07-07T22:27:56.362378Z"
    }
   },
   "outputs": [
    {
     "name": "stdout",
     "output_type": "stream",
     "text": [
      "L-->|      thIs iS aN uGly sEntEnce.    \n",
      "L.lower()-->|      this is an ugly sentence.    \n",
      "L.upper()-->|      THIS IS AN UGLY SENTENCE.    \n",
      "L.title()-->|      This Is An Ugly Sentence.    \n",
      "L.title().strip()-->| This Is An Ugly Sentence.\n",
      "L1-->| This Is An Beautiful Sentence.\n",
      "How many characters are there in this string?  30\n",
      "First 4 chars of L1: This\n",
      "his\n"
     ]
    }
   ],
   "source": [
    "L = '     thIs iS aN uGly sEntEnce.    '\n",
    "\n",
    "print(\"L-->|\", L)\n",
    "print(\"L.lower()-->|\", L.lower())\n",
    "print(\"L.upper()-->|\", L.upper())\n",
    "print(\"L.title()-->|\",L.title())\n",
    "print(\"L.title().strip()-->|\",L.title().strip())\n",
    "L1 = L.title().replace(\"Ugly\", \"Beautiful\").strip()\n",
    "print(\"L1-->|\",L1)\n",
    "print(\"How many characters are there in this string? \", len(L1))\n",
    "print(\"First 4 chars of L1:\", L1[0:4])\n",
    "print(L1[1:4])"
   ]
  },
  {
   "cell_type": "code",
   "execution_count": null,
   "metadata": {},
   "outputs": [],
   "source": []
  },
  {
   "cell_type": "markdown",
   "metadata": {},
   "source": [
    "The \"``()``\" after ``lower``, indicates that the function should be executed, and is required even if no arguments are necessary."
   ]
  },
  {
   "cell_type": "markdown",
   "metadata": {},
   "source": [
    "## Aside: A Note on the ``print()`` Function\n",
    "\n",
    "Above we used the example of the ``print()`` function.\n",
    "The ``print()`` function is one piece that has changed between Python *2.x* and Python *3.x*. In Python 2, ``print`` behaved as a statement: that is, you could write\n",
    "``` python\n",
    "# Python 2 only!\n",
    ">> print \"first value:\", 1\n",
    "first value: 1\n",
    "```\n",
    "For various reasons, the language maintainers decided that in Python 3 ``print()`` should become a function, so we now write\n",
    "``` python\n",
    "# Python 3 only!\n",
    ">>> print(\"first value:\", 1)\n",
    "first value: 1\n",
    "```\n",
    "This is one of the many backward-incompatible constructs between Python 2 and 3.\n",
    "As of the writing of this book, it is common to find examples written in both versions of Python, and the presence of the ``print`` statement rather than the ``print()`` function is often one of the first signs that you're looking at Python 2 code."
   ]
  },
  {
   "cell_type": "markdown",
   "metadata": {},
   "source": [
    "## Finishing Up and Learning More\n",
    "\n",
    "This has been a very brief exploration of the essential features of Python syntax; its purpose is to give you a good frame of reference for when you're reading the code in later sections.\n",
    "Several times we've mentioned Python \"style guides\", which can help teams to write code in a consistent style.\n",
    "The most widely used style guide in Python is known as PEP8, and can be found at https://www.python.org/dev/peps/pep-0008/.\n",
    "As you begin to write more Python code, it would be useful to read through this!\n",
    "The style suggestions contain the wisdom of many Python gurus, and most suggestions go beyond simple pedantry: they are experience-based recommendations that can help avoid subtle mistakes and bugs in your code."
   ]
  },
  {
   "cell_type": "markdown",
   "metadata": {},
   "source": [
    "    "
   ]
  },
  {
   "cell_type": "code",
   "execution_count": null,
   "metadata": {},
   "outputs": [],
   "source": []
  }
 ],
 "metadata": {
  "anaconda-cloud": {},
  "kernelspec": {
   "display_name": "Python 3",
   "language": "python",
   "name": "python3"
  },
  "language_info": {
   "codemirror_mode": {
    "name": "ipython",
    "version": 3
   },
   "file_extension": ".py",
   "mimetype": "text/x-python",
   "name": "python",
   "nbconvert_exporter": "python",
   "pygments_lexer": "ipython3",
   "version": "3.7.2"
  },
  "latex_envs": {
   "LaTeX_envs_menu_present": true,
   "autoclose": false,
   "autocomplete": true,
   "bibliofile": "biblio.bib",
   "cite_by": "apalike",
   "current_citInitial": 1,
   "eqLabelWithNumbers": true,
   "eqNumInitial": 1,
   "hotkeys": {
    "equation": "Ctrl-E",
    "itemize": "Ctrl-I"
   },
   "labels_anchors": false,
   "latex_user_defs": false,
   "report_style_numbering": false,
   "user_envs_cfg": false
  },
  "nbTranslate": {
   "displayLangs": [
    "en",
    "ko"
   ],
   "hotkey": "alt-t",
   "langInMainMenu": true,
   "sourceLang": "ko",
   "targetLang": "en",
   "useGoogleTranslate": true
  },
  "toc": {
   "base_numbering": 1,
   "nav_menu": {},
   "number_sections": true,
   "sideBar": true,
   "skip_h1_title": false,
   "title_cell": "Table of Contents",
   "title_sidebar": "Contents",
   "toc_cell": false,
   "toc_position": {},
   "toc_section_display": true,
   "toc_window_display": false
  },
  "varInspector": {
   "cols": {
    "lenName": 16,
    "lenType": 16,
    "lenVar": 40
   },
   "kernels_config": {
    "python": {
     "delete_cmd_postfix": "",
     "delete_cmd_prefix": "del ",
     "library": "var_list.py",
     "varRefreshCmd": "print(var_dic_list())"
    },
    "r": {
     "delete_cmd_postfix": ") ",
     "delete_cmd_prefix": "rm(",
     "library": "var_list.r",
     "varRefreshCmd": "cat(var_dic_list()) "
    }
   },
   "types_to_exclude": [
    "module",
    "function",
    "builtin_function_or_method",
    "instance",
    "_Feature"
   ],
   "window_display": false
  }
 },
 "nbformat": 4,
 "nbformat_minor": 1
}
