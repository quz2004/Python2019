{
 "cells": [
  {
   "cell_type": "markdown",
   "metadata": {},
   "source": [
    "# Errors and Exception Handling\n",
    "\n",
    "In this lecture we will learn about Errors and Exception Handling in Python. You've definitely already encountered errors by this point in the course. For example:"
   ]
  },
  {
   "cell_type": "code",
   "execution_count": null,
   "metadata": {
    "ExecuteTime": {
     "end_time": "2019-01-24T05:29:08.901658Z",
     "start_time": "2019-01-24T05:29:08.894310Z"
    }
   },
   "outputs": [],
   "source": [
    "print ('Hello)"
   ]
  },
  {
   "cell_type": "markdown",
   "metadata": {},
   "source": [
    "Note how we get a SyntaxError, with the further description that it was an EOL (End of Line Error) while scanning the string literal. This is specific enough for us to see that we forgot a single quote at the end of the line. Understanding these various error types will help you debug your code much faster. \n",
    "\n",
    "This type of error and description is known as an Exception. Even if a statement or expression is syntactically correct, it may cause an error when an attempt is made to execute it. Errors detected during execution are called exceptions and are not unconditionally fatal.\n",
    "\n",
    "You can check out the full list of built-in exceptions [here](https://docs.python.org/3/library/exceptions.html). now lets learn how to handle errors and exceptions in our own code."
   ]
  },
  {
   "cell_type": "markdown",
   "metadata": {},
   "source": [
    "## try and except\n",
    "\n",
    "The basic terminology and syntax used to handle errors in Python is the **try** and **except** statements. The code which can cause an exception to occue is put in the *try* block and the handling of the exception is the implemented in the *except* block of code. The syntax form is:\n",
    "\n",
    "    try:\n",
    "       You do your operations here...\n",
    "       ...\n",
    "    except ExceptionI:\n",
    "       If there is ExceptionI, then execute this block.\n",
    "    except ExceptionII:\n",
    "       If there is ExceptionII, then execute this block.\n",
    "       ...\n",
    "    else:\n",
    "       If there is no exception then execute this block. \n",
    "\n",
    "We can also just check for any exception with just using except: To get a better understanding of all this lets check out an example: We will look at some code that opens and writes a file:"
   ]
  },
  {
   "cell_type": "code",
   "execution_count": null,
   "metadata": {
    "ExecuteTime": {
     "end_time": "2019-07-09T01:51:40.820886Z",
     "start_time": "2019-07-09T01:51:40.808838Z"
    }
   },
   "outputs": [],
   "source": [
    "try:\n",
    "    f = open('testfile','w')\n",
    "    f.write('Test write this')\n",
    "except IOError:\n",
    "    # This will only check for an IOError exception and then execute this print statement\n",
    "   print(\"Error: Could not find file or read data\")\n",
    "else:\n",
    "   print(\"Content written successfully\")\n",
    "   f.close()"
   ]
  },
  {
   "cell_type": "markdown",
   "metadata": {},
   "source": [
    "Now lets see what would happen if we did not have write permission (opening only with 'r'):"
   ]
  },
  {
   "cell_type": "code",
   "execution_count": null,
   "metadata": {
    "ExecuteTime": {
     "end_time": "2019-07-09T01:52:05.930659Z",
     "start_time": "2019-07-09T01:52:05.922217Z"
    }
   },
   "outputs": [],
   "source": [
    "try:\n",
    "    f = open('testfile','r')\n",
    "    f.write('Test write this')\n",
    "except IOError:\n",
    "    # This will only check for an IOError exception and then execute this print statement\n",
    "   print(\"Error: Could not find file or read data\")\n",
    "else:\n",
    "   print(\"Content written successfully\")\n",
    "   f.close()"
   ]
  },
  {
   "cell_type": "markdown",
   "metadata": {},
   "source": [
    "Great! Notice how we only printed a statement! The code still ran and we were able to continue doing actions and running code blocks. This is extremely useful when you have to account for possible input errors in your code. You can be prepared for the error and keep running code, instead of your code just breaking as we saw above.\n",
    "\n",
    "We could have also just said except: if we weren't sure what exception would occur. For example:"
   ]
  },
  {
   "cell_type": "code",
   "execution_count": null,
   "metadata": {
    "ExecuteTime": {
     "end_time": "2019-01-05T06:24:55.038444Z",
     "start_time": "2019-01-05T06:24:55.031352Z"
    }
   },
   "outputs": [],
   "source": [
    "try:\n",
    "    f = open('testfile','r')\n",
    "    f.write('Test write this')\n",
    "except:\n",
    "    # This will check for any exception and then execute this print statement\n",
    "   print(\"Error: Could not find file or read data\")\n",
    "else:\n",
    "   print(\"Content written successfully\")\n",
    "   f.close()"
   ]
  },
  {
   "cell_type": "markdown",
   "metadata": {},
   "source": [
    "Great! Now we don't actually need to memorize that list of exception types! Now what if we kept wanting to run code after the exception occurred? This is where **finally** comes in.\n",
    "## finally\n",
    "The finally: block of code will always be run regardless if there was an exception in the try code block. The syntax is:\n",
    "\n",
    "    try:\n",
    "       Code block here\n",
    "       ...\n",
    "       Due to any exception, this code may be skipped!\n",
    "    finally:\n",
    "       This code block would always be executed.\n",
    "\n",
    "For example:"
   ]
  },
  {
   "cell_type": "code",
   "execution_count": null,
   "metadata": {
    "ExecuteTime": {
     "end_time": "2019-07-09T01:53:30.038237Z",
     "start_time": "2019-07-09T01:53:29.737523Z"
    }
   },
   "outputs": [],
   "source": [
    "try:\n",
    "   f = open(\"testfile\", \"w\")\n",
    "   f.write(\"Test write statement\")\n",
    "finally:\n",
    "   print(\"Always execute finally code blocks\")"
   ]
  },
  {
   "cell_type": "code",
   "execution_count": null,
   "metadata": {
    "ExecuteTime": {
     "end_time": "2019-01-05T06:32:39.392286Z",
     "start_time": "2019-01-05T06:32:39.387371Z"
    }
   },
   "outputs": [],
   "source": [
    "try:\n",
    "    3/10\n",
    "except ZeroDivisionError:\n",
    "    print ('ZeroDivisionError')\n",
    "else:\n",
    "    print ('else-block')\n",
    "finally:\n",
    "    print('final-block')\n",
    "print('end of try-final block')"
   ]
  },
  {
   "cell_type": "markdown",
   "metadata": {},
   "source": [
    "**Great! Now you know how to handle errors and exceptions in Python with the try, except, else, and finally notation!**"
   ]
  }
 ],
 "metadata": {
  "kernelspec": {
   "display_name": "Python 3",
   "language": "python",
   "name": "python3"
  },
  "language_info": {
   "codemirror_mode": {
    "name": "ipython",
    "version": 3
   },
   "file_extension": ".py",
   "mimetype": "text/x-python",
   "name": "python",
   "nbconvert_exporter": "python",
   "pygments_lexer": "ipython3",
   "version": "3.7.2"
  },
  "latex_envs": {
   "LaTeX_envs_menu_present": true,
   "autoclose": false,
   "autocomplete": true,
   "bibliofile": "biblio.bib",
   "cite_by": "apalike",
   "current_citInitial": 1,
   "eqLabelWithNumbers": true,
   "eqNumInitial": 1,
   "hotkeys": {
    "equation": "Ctrl-E",
    "itemize": "Ctrl-I"
   },
   "labels_anchors": false,
   "latex_user_defs": false,
   "report_style_numbering": false,
   "user_envs_cfg": false
  },
  "nbTranslate": {
   "displayLangs": [
    "*"
   ],
   "hotkey": "alt-t",
   "langInMainMenu": true,
   "sourceLang": "en",
   "targetLang": "fr",
   "useGoogleTranslate": true
  },
  "toc": {
   "base_numbering": 1,
   "nav_menu": {},
   "number_sections": true,
   "sideBar": true,
   "skip_h1_title": false,
   "title_cell": "Table of Contents",
   "title_sidebar": "Contents",
   "toc_cell": false,
   "toc_position": {},
   "toc_section_display": true,
   "toc_window_display": false
  },
  "varInspector": {
   "cols": {
    "lenName": 16,
    "lenType": 16,
    "lenVar": 40
   },
   "kernels_config": {
    "python": {
     "delete_cmd_postfix": "",
     "delete_cmd_prefix": "del ",
     "library": "var_list.py",
     "varRefreshCmd": "print(var_dic_list())"
    },
    "r": {
     "delete_cmd_postfix": ") ",
     "delete_cmd_prefix": "rm(",
     "library": "var_list.r",
     "varRefreshCmd": "cat(var_dic_list()) "
    }
   },
   "types_to_exclude": [
    "module",
    "function",
    "builtin_function_or_method",
    "instance",
    "_Feature"
   ],
   "window_display": false
  }
 },
 "nbformat": 4,
 "nbformat_minor": 1
}
